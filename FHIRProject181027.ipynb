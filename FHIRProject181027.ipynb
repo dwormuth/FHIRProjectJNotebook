{
 "cells": [
  {
   "cell_type": "markdown",
   "metadata": {},
   "source": [
    "# Experiments Processing FHIR Queries in Python"
   ]
  },
  {
   "cell_type": "code",
   "execution_count": 1,
   "metadata": {},
   "outputs": [
    {
     "data": {
      "text/plain": [
       "('PatientList.json', <http.client.HTTPMessage at 0x104ee7e48>)"
      ]
     },
     "execution_count": 1,
     "metadata": {},
     "output_type": "execute_result"
    }
   ],
   "source": [
    "URL = \"http://fhir.hl7fundamentals.org/baseDstu3/Patient\"\n",
    "\n",
    "from urllib.request import urlretrieve\n",
    "urlretrieve(URL,'PatientList.json')"
   ]
  },
  {
   "cell_type": "code",
   "execution_count": 2,
   "metadata": {},
   "outputs": [
    {
     "name": "stdout",
     "output_type": "stream",
     "text": [
      "{\r\n",
      "  \"resourceType\": \"Bundle\",\r\n",
      "  \"id\": \"90410b20-b81e-44aa-b976-ada99cd6fb8d\",\r\n",
      "  \"meta\": {\r\n",
      "    \"lastUpdated\": \"2018-10-27T18:05:59.000-04:00\"\r\n",
      "  },\r\n",
      "  \"type\": \"searchset\",\r\n",
      "  \"total\": 7069,\r\n",
      "  \"link\": [\r\n",
      "    {\r\n"
     ]
    }
   ],
   "source": [
    "!head PatientList.json"
   ]
  },
  {
   "cell_type": "markdown",
   "metadata": {},
   "source": [
    "## Can get as JSON, how about XML?"
   ]
  },
  {
   "cell_type": "code",
   "execution_count": 3,
   "metadata": {},
   "outputs": [
    {
     "name": "stdout",
     "output_type": "stream",
     "text": [
      "http://fhir.hl7fundamentals.org/baseDstu3/Patient?_format=application/fhir+xml\n"
     ]
    },
    {
     "data": {
      "text/plain": [
       "('PatientList.xml', <http.client.HTTPMessage at 0x104f52710>)"
      ]
     },
     "execution_count": 3,
     "metadata": {},
     "output_type": "execute_result"
    }
   ],
   "source": [
    "URL = \"http://fhir.hl7fundamentals.org/baseDstu3/Patient\"\n",
    "FormatString = \"?_format=application/fhir+xml\"\n",
    "builtURL = URL + FormatString\n",
    "print( builtURL )\n",
    "from urllib.request import urlretrieve\n",
    "urlretrieve(builtURL,'PatientList.xml')"
   ]
  },
  {
   "cell_type": "code",
   "execution_count": 4,
   "metadata": {},
   "outputs": [
    {
     "name": "stdout",
     "output_type": "stream",
     "text": [
      "<Bundle xmlns=\"http://hl7.org/fhir\">\r\n",
      "   <id value=\"695fabbe-d5cd-43ea-bfc7-128d102e6746\"/>\r\n",
      "   <meta>\r\n",
      "      <lastUpdated value=\"2018-10-27T18:06:01.000-04:00\"/>\r\n",
      "   </meta>\r\n",
      "   <type value=\"searchset\"/>\r\n",
      "   <total value=\"7069\"/>\r\n",
      "   <link>\r\n",
      "      <relation value=\"self\"/>\r\n",
      "      <url value=\"http://fhir.hl7fundamentals.org/baseDstu3/Patient?_format=application%2Ffhir+xml\"/>\r\n"
     ]
    }
   ],
   "source": [
    "!head PatientList.xml"
   ]
  },
  {
   "cell_type": "code",
   "execution_count": 5,
   "metadata": {},
   "outputs": [
    {
     "name": "stdout",
     "output_type": "stream",
     "text": [
      "http://fhir.hl7fundamentals.org/baseDstu3/Patient/52?_format=application/fhir+xml\n"
     ]
    },
    {
     "data": {
      "text/plain": [
       "('PatientList.xml', <http.client.HTTPMessage at 0x104f52a90>)"
      ]
     },
     "execution_count": 5,
     "metadata": {},
     "output_type": "execute_result"
    }
   ],
   "source": [
    "URL = \"http://fhir.hl7fundamentals.org/baseDstu3/Patient\"\n",
    "PatientID = \"/52\"\n",
    "FormatString = \"?_format=application/fhir+xml\"\n",
    "builtURL = URL + PatientID + FormatString\n",
    "print( builtURL )\n",
    "from urllib.request import urlretrieve\n",
    "urlretrieve(builtURL,'PatientList.xml')"
   ]
  },
  {
   "cell_type": "code",
   "execution_count": 6,
   "metadata": {},
   "outputs": [
    {
     "name": "stdout",
     "output_type": "stream",
     "text": [
      "<Patient xmlns=\"http://hl7.org/fhir\">\r\n",
      "   <id value=\"52\"/>\r\n",
      "   <meta>\r\n",
      "      <versionId value=\"23\"/>\r\n",
      "      <lastUpdated value=\"2018-10-10T09:40:18.000-04:00\"/>\r\n",
      "   </meta>\r\n",
      "   <language value=\"de-AT\"/>\r\n",
      "   <text>\r\n",
      "      <status value=\"generated\"/>\r\n",
      "      <div xmlns=\"http://www.w3.org/1999/xhtml\"> \r\n"
     ]
    }
   ],
   "source": [
    "!head PatientList.xml"
   ]
  },
  {
   "cell_type": "code",
   "execution_count": 7,
   "metadata": {},
   "outputs": [
    {
     "name": "stdout",
     "output_type": "stream",
     "text": [
      "<Patient xmlns=\"http://hl7.org/fhir\">\r\n",
      "   <id value=\"52\"/>\r\n",
      "   <meta>\r\n",
      "      <versionId value=\"23\"/>\r\n",
      "      <lastUpdated value=\"2018-10-10T09:40:18.000-04:00\"/>\r\n",
      "   </meta>\r\n",
      "   <language value=\"de-AT\"/>\r\n",
      "   <text>\r\n",
      "      <status value=\"generated\"/>\r\n",
      "      <div xmlns=\"http://www.w3.org/1999/xhtml\"> \r\n",
      "         <div class=\"hapiHeaderText\">Pen \r\n",
      "            <b>KIKU </b> \r\n",
      "         </div> \r\n",
      "         <table class=\"hapiPropertyTable\"> \r\n",
      "            <tbody> \r\n",
      "               <tr> \r\n",
      "                  <td>Identifier</td> \r\n",
      "                  <td>444444</td> \r\n",
      "               </tr> \r\n",
      "               <tr> \r\n",
      "                  <td>Address</td> \r\n",
      "                  <td> \r\n",
      "                     <span>234 Main Street </span> \r\n",
      "                     <br/> \r\n",
      "                     <span>Freehold TEST </span> \r\n",
      "                     <span>CA </span> \r\n",
      "                     <span>USA </span> \r\n",
      "                  </td> \r\n",
      "               </tr> \r\n",
      "               <tr> \r\n",
      "                  <td>Date of birth</td> \r\n",
      "                  <td> \r\n",
      "                     <span>13 May 2017</span> \r\n",
      "                  </td> \r\n",
      "               </tr> \r\n",
      "            </tbody> \r\n",
      "         </table> \r\n",
      "      </div>\r\n",
      "   </text>\r\n",
      "   <identifier>\r\n",
      "      <system value=\"http://myidentifier.com/patientIds\"/>\r\n",
      "      <value value=\"444444\"/>\r\n",
      "   </identifier>\r\n",
      "   <active value=\"true\"/>\r\n",
      "   <name>\r\n",
      "      <family value=\"kiku\"/>\r\n",
      "      <given value=\"Pen\"/>\r\n",
      "   </name>\r\n",
      "   <gender value=\"male\"/>\r\n",
      "   <birthDate value=\"2018-09-23\"/>\r\n",
      "   <deceasedDateTime value=\"2018-09-23T06:10:40.613Z\"/>\r\n",
      "   <address>\r\n",
      "      <line value=\"234 Main Street\"/>\r\n",
      "      <city value=\"Freehold TES 123T\"/>\r\n",
      "      <state value=\"CA\"/>\r\n",
      "      <country value=\"USA\"/>\r\n",
      "   </address>\r\n",
      "   <maritalStatus>\r\n",
      "      <coding>\r\n",
      "         <system value=\"http://hl7.org/fhir/v3/MaritalStatus\"/>\r\n",
      "         <code value=\"S\"/>\r\n",
      "      </coding>\r\n",
      "   </maritalStatus>\r\n",
      "   <multipleBirthBoolean value=\"false\"/>\r\n",
      "</Patient>"
     ]
    }
   ],
   "source": [
    "!cat PatientList.xml"
   ]
  },
  {
   "cell_type": "markdown",
   "metadata": {},
   "source": [
    "## Let's Take the XML into an Object...."
   ]
  },
  {
   "cell_type": "markdown",
   "metadata": {},
   "source": [
    "https://docs.python.org/3/howto/urllib2.html"
   ]
  },
  {
   "cell_type": "code",
   "execution_count": 9,
   "metadata": {},
   "outputs": [
    {
     "name": "stdout",
     "output_type": "stream",
     "text": [
      "b'<Patient xmlns=\"http://hl7.org/fhir\">\\n   <id value=\"52\"/>\\n   <meta>\\n      <versionId value=\"23\"/>\\n      <lastUpdated value=\"2018-10-10T09:40:18.000-04:00\"/>\\n   </meta>\\n   <language value=\"de-AT\"/>\\n   <text>\\n      <status value=\"generated\"/>\\n      <div xmlns=\"http://www.w3.org/1999/xhtml\"> \\n         <div class=\"hapiHeaderText\">Pen \\n            <b>KIKU </b> \\n         </div> \\n         <table class=\"hapiPropertyTable\"> \\n            <tbody> \\n               <tr> \\n                  <td>Identifier</td> \\n                  <td>444444</td> \\n               </tr> \\n               <tr> \\n                  <td>Address</td> \\n                  <td> \\n                     <span>234 Main Street </span> \\n                     <br/> \\n                     <span>Freehold TEST </span> \\n                     <span>CA </span> \\n                     <span>USA </span> \\n                  </td> \\n               </tr> \\n               <tr> \\n                  <td>Date of birth</td> \\n                  <td> \\n                     <span>13 May 2017</span> \\n                  </td> \\n               </tr> \\n            </tbody> \\n         </table> \\n      </div>\\n   </text>\\n   <identifier>\\n      <system value=\"http://myidentifier.com/patientIds\"/>\\n      <value value=\"444444\"/>\\n   </identifier>\\n   <active value=\"true\"/>\\n   <name>\\n      <family value=\"kiku\"/>\\n      <given value=\"Pen\"/>\\n   </name>\\n   <gender value=\"male\"/>\\n   <birthDate value=\"2018-09-23\"/>\\n   <deceasedDateTime value=\"2018-09-23T06:10:40.613Z\"/>\\n   <address>\\n      <line value=\"234 Main Street\"/>\\n      <city value=\"Freehold TES 123T\"/>\\n      <state value=\"CA\"/>\\n      <country value=\"USA\"/>\\n   </address>\\n   <maritalStatus>\\n      <coding>\\n         <system value=\"http://hl7.org/fhir/v3/MaritalStatus\"/>\\n         <code value=\"S\"/>\\n      </coding>\\n   </maritalStatus>\\n   <multipleBirthBoolean value=\"false\"/>\\n</Patient>'\n"
     ]
    }
   ],
   "source": [
    "import urllib.request\n",
    "\n",
    "req = urllib.request.Request(builtURL)\n",
    "with urllib.request.urlopen(req) as response:\n",
    "   the_page = response.read()\n",
    "print(the_page)"
   ]
  },
  {
   "cell_type": "markdown",
   "metadata": {},
   "source": [
    "## Then slap some XML parsing on it!\n",
    "https://towardsdatascience.com/processing-xml-in-python-elementtree-c8992941efd2"
   ]
  },
  {
   "cell_type": "code",
   "execution_count": 13,
   "metadata": {},
   "outputs": [
    {
     "name": "stdout",
     "output_type": "stream",
     "text": [
      "http://fhir.hl7fundamentals.org/baseDstu3/Patient?_format=application/fhir+xml\n",
      "{http://hl7.org/fhir}id {'value': '93689fc5-3ce2-4b3f-872f-e2bb722b2252'}\n",
      "{http://hl7.org/fhir}meta {}\n",
      "{http://hl7.org/fhir}type {'value': 'searchset'}\n",
      "{http://hl7.org/fhir}total {'value': '7111'}\n",
      "{http://hl7.org/fhir}link {}\n",
      "{http://hl7.org/fhir}link {}\n",
      "{http://hl7.org/fhir}entry {}\n",
      "{http://hl7.org/fhir}entry {}\n",
      "{http://hl7.org/fhir}entry {}\n",
      "{http://hl7.org/fhir}entry {}\n",
      "{http://hl7.org/fhir}entry {}\n",
      "{http://hl7.org/fhir}entry {}\n",
      "{http://hl7.org/fhir}entry {}\n",
      "{http://hl7.org/fhir}entry {}\n",
      "{http://hl7.org/fhir}entry {}\n",
      "{http://hl7.org/fhir}entry {}\n"
     ]
    }
   ],
   "source": [
    "import xml.etree.ElementTree as ET\n",
    "URL = \"http://fhir.hl7fundamentals.org/baseDstu3/Patient\"\n",
    "FormatString = \"?_format=application/fhir+xml\"\n",
    "builtURL = URL + FormatString\n",
    "print( builtURL )\n",
    "from urllib.request import urlretrieve\n",
    "urlretrieve(builtURL,'PatientList.xml')\n",
    "tree = ET.parse('PatientList.xml')\n",
    "root = tree.getroot()\n",
    "for child in root:\n",
    "    print(child.tag, child.attrib)"
   ]
  },
  {
   "cell_type": "code",
   "execution_count": 16,
   "metadata": {},
   "outputs": [],
   "source": [
    "for entry in root.iter('entry'):\n",
    "    print(entry.attrib)"
   ]
  },
  {
   "cell_type": "code",
   "execution_count": 17,
   "metadata": {},
   "outputs": [
    {
     "name": "stdout",
     "output_type": "stream",
     "text": [
      "<Element '{http://hl7.org/fhir}Bundle' at 0x104f4b688>\n"
     ]
    }
   ],
   "source": [
    "print(root)"
   ]
  },
  {
   "cell_type": "code",
   "execution_count": 18,
   "metadata": {},
   "outputs": [
    {
     "data": {
      "text/plain": [
       "['{http://hl7.org/fhir}Bundle',\n",
       " '{http://hl7.org/fhir}id',\n",
       " '{http://hl7.org/fhir}meta',\n",
       " '{http://hl7.org/fhir}lastUpdated',\n",
       " '{http://hl7.org/fhir}type',\n",
       " '{http://hl7.org/fhir}total',\n",
       " '{http://hl7.org/fhir}link',\n",
       " '{http://hl7.org/fhir}relation',\n",
       " '{http://hl7.org/fhir}url',\n",
       " '{http://hl7.org/fhir}link',\n",
       " '{http://hl7.org/fhir}relation',\n",
       " '{http://hl7.org/fhir}url',\n",
       " '{http://hl7.org/fhir}entry',\n",
       " '{http://hl7.org/fhir}fullUrl',\n",
       " '{http://hl7.org/fhir}resource',\n",
       " '{http://hl7.org/fhir}Patient',\n",
       " '{http://hl7.org/fhir}id',\n",
       " '{http://hl7.org/fhir}meta',\n",
       " '{http://hl7.org/fhir}versionId',\n",
       " '{http://hl7.org/fhir}lastUpdated',\n",
       " '{http://hl7.org/fhir}language',\n",
       " '{http://hl7.org/fhir}text',\n",
       " '{http://hl7.org/fhir}status',\n",
       " '{http://www.w3.org/1999/xhtml}div',\n",
       " '{http://www.w3.org/1999/xhtml}div',\n",
       " '{http://www.w3.org/1999/xhtml}b',\n",
       " '{http://www.w3.org/1999/xhtml}table',\n",
       " '{http://www.w3.org/1999/xhtml}tbody',\n",
       " '{http://www.w3.org/1999/xhtml}tr',\n",
       " '{http://www.w3.org/1999/xhtml}td',\n",
       " '{http://www.w3.org/1999/xhtml}td',\n",
       " '{http://www.w3.org/1999/xhtml}tr',\n",
       " '{http://www.w3.org/1999/xhtml}td',\n",
       " '{http://www.w3.org/1999/xhtml}td',\n",
       " '{http://www.w3.org/1999/xhtml}span',\n",
       " '{http://www.w3.org/1999/xhtml}br',\n",
       " '{http://www.w3.org/1999/xhtml}span',\n",
       " '{http://www.w3.org/1999/xhtml}span',\n",
       " '{http://www.w3.org/1999/xhtml}span',\n",
       " '{http://www.w3.org/1999/xhtml}tr',\n",
       " '{http://www.w3.org/1999/xhtml}td',\n",
       " '{http://www.w3.org/1999/xhtml}td',\n",
       " '{http://www.w3.org/1999/xhtml}span',\n",
       " '{http://hl7.org/fhir}identifier',\n",
       " '{http://hl7.org/fhir}system',\n",
       " '{http://hl7.org/fhir}value',\n",
       " '{http://hl7.org/fhir}active',\n",
       " '{http://hl7.org/fhir}name',\n",
       " '{http://hl7.org/fhir}family',\n",
       " '{http://hl7.org/fhir}given',\n",
       " '{http://hl7.org/fhir}gender',\n",
       " '{http://hl7.org/fhir}birthDate',\n",
       " '{http://hl7.org/fhir}deceasedDateTime',\n",
       " '{http://hl7.org/fhir}address',\n",
       " '{http://hl7.org/fhir}line',\n",
       " '{http://hl7.org/fhir}city',\n",
       " '{http://hl7.org/fhir}state',\n",
       " '{http://hl7.org/fhir}country',\n",
       " '{http://hl7.org/fhir}maritalStatus',\n",
       " '{http://hl7.org/fhir}coding',\n",
       " '{http://hl7.org/fhir}system',\n",
       " '{http://hl7.org/fhir}code',\n",
       " '{http://hl7.org/fhir}multipleBirthBoolean',\n",
       " '{http://hl7.org/fhir}search',\n",
       " '{http://hl7.org/fhir}mode',\n",
       " '{http://hl7.org/fhir}entry',\n",
       " '{http://hl7.org/fhir}fullUrl',\n",
       " '{http://hl7.org/fhir}resource',\n",
       " '{http://hl7.org/fhir}Patient',\n",
       " '{http://hl7.org/fhir}id',\n",
       " '{http://hl7.org/fhir}meta',\n",
       " '{http://hl7.org/fhir}versionId',\n",
       " '{http://hl7.org/fhir}lastUpdated',\n",
       " '{http://hl7.org/fhir}language',\n",
       " '{http://hl7.org/fhir}text',\n",
       " '{http://hl7.org/fhir}status',\n",
       " '{http://www.w3.org/1999/xhtml}div',\n",
       " '{http://www.w3.org/1999/xhtml}p',\n",
       " '{http://www.w3.org/1999/xhtml}b',\n",
       " '{http://www.w3.org/1999/xhtml}p',\n",
       " '{http://www.w3.org/1999/xhtml}b',\n",
       " '{http://www.w3.org/1999/xhtml}p',\n",
       " '{http://www.w3.org/1999/xhtml}b',\n",
       " '{http://www.w3.org/1999/xhtml}p',\n",
       " '{http://www.w3.org/1999/xhtml}b',\n",
       " '{http://www.w3.org/1999/xhtml}p',\n",
       " '{http://www.w3.org/1999/xhtml}b',\n",
       " '{http://www.w3.org/1999/xhtml}p',\n",
       " '{http://www.w3.org/1999/xhtml}b',\n",
       " '{http://www.w3.org/1999/xhtml}p',\n",
       " '{http://www.w3.org/1999/xhtml}b',\n",
       " '{http://hl7.org/fhir}identifier',\n",
       " '{http://hl7.org/fhir}use',\n",
       " '{http://hl7.org/fhir}system',\n",
       " '{http://hl7.org/fhir}value',\n",
       " '{http://hl7.org/fhir}active',\n",
       " '{http://hl7.org/fhir}name',\n",
       " '{http://hl7.org/fhir}use',\n",
       " '{http://hl7.org/fhir}family',\n",
       " '{http://hl7.org/fhir}given',\n",
       " '{http://hl7.org/fhir}gender',\n",
       " '{http://hl7.org/fhir}birthDate',\n",
       " '{http://hl7.org/fhir}deceasedBoolean',\n",
       " '{http://hl7.org/fhir}address',\n",
       " '{http://hl7.org/fhir}use',\n",
       " '{http://hl7.org/fhir}line',\n",
       " '{http://hl7.org/fhir}line',\n",
       " '{http://hl7.org/fhir}city',\n",
       " '{http://hl7.org/fhir}state',\n",
       " '{http://hl7.org/fhir}postalCode',\n",
       " '{http://hl7.org/fhir}country',\n",
       " '{http://hl7.org/fhir}maritalStatus',\n",
       " '{http://hl7.org/fhir}coding',\n",
       " '{http://hl7.org/fhir}system',\n",
       " '{http://hl7.org/fhir}code',\n",
       " '{http://hl7.org/fhir}multipleBirthInteger',\n",
       " '{http://hl7.org/fhir}search',\n",
       " '{http://hl7.org/fhir}mode',\n",
       " '{http://hl7.org/fhir}entry',\n",
       " '{http://hl7.org/fhir}fullUrl',\n",
       " '{http://hl7.org/fhir}resource',\n",
       " '{http://hl7.org/fhir}Patient',\n",
       " '{http://hl7.org/fhir}id',\n",
       " '{http://hl7.org/fhir}meta',\n",
       " '{http://hl7.org/fhir}versionId',\n",
       " '{http://hl7.org/fhir}lastUpdated',\n",
       " '{http://hl7.org/fhir}language',\n",
       " '{http://hl7.org/fhir}text',\n",
       " '{http://hl7.org/fhir}status',\n",
       " '{http://www.w3.org/1999/xhtml}div',\n",
       " '{http://www.w3.org/1999/xhtml}div',\n",
       " '{http://www.w3.org/1999/xhtml}b',\n",
       " '{http://www.w3.org/1999/xhtml}table',\n",
       " '{http://www.w3.org/1999/xhtml}tbody',\n",
       " '{http://www.w3.org/1999/xhtml}tr',\n",
       " '{http://www.w3.org/1999/xhtml}td',\n",
       " '{http://www.w3.org/1999/xhtml}td',\n",
       " '{http://www.w3.org/1999/xhtml}tr',\n",
       " '{http://www.w3.org/1999/xhtml}td',\n",
       " '{http://www.w3.org/1999/xhtml}td',\n",
       " '{http://www.w3.org/1999/xhtml}span',\n",
       " '{http://www.w3.org/1999/xhtml}br',\n",
       " '{http://www.w3.org/1999/xhtml}span',\n",
       " '{http://www.w3.org/1999/xhtml}span',\n",
       " '{http://www.w3.org/1999/xhtml}span',\n",
       " '{http://www.w3.org/1999/xhtml}tr',\n",
       " '{http://www.w3.org/1999/xhtml}td',\n",
       " '{http://www.w3.org/1999/xhtml}td',\n",
       " '{http://www.w3.org/1999/xhtml}span',\n",
       " '{http://hl7.org/fhir}identifier',\n",
       " '{http://hl7.org/fhir}use',\n",
       " '{http://hl7.org/fhir}system',\n",
       " '{http://hl7.org/fhir}value',\n",
       " '{http://hl7.org/fhir}active',\n",
       " '{http://hl7.org/fhir}name',\n",
       " '{http://hl7.org/fhir}use',\n",
       " '{http://hl7.org/fhir}family',\n",
       " '{http://hl7.org/fhir}given',\n",
       " '{http://hl7.org/fhir}telecom',\n",
       " '{http://hl7.org/fhir}system',\n",
       " '{http://hl7.org/fhir}value',\n",
       " '{http://hl7.org/fhir}use',\n",
       " '{http://hl7.org/fhir}gender',\n",
       " '{http://hl7.org/fhir}birthDate',\n",
       " '{http://hl7.org/fhir}deceasedBoolean',\n",
       " '{http://hl7.org/fhir}address',\n",
       " '{http://hl7.org/fhir}use',\n",
       " '{http://hl7.org/fhir}line',\n",
       " '{http://hl7.org/fhir}city',\n",
       " '{http://hl7.org/fhir}district',\n",
       " '{http://hl7.org/fhir}state',\n",
       " '{http://hl7.org/fhir}postalCode',\n",
       " '{http://hl7.org/fhir}country',\n",
       " '{http://hl7.org/fhir}maritalStatus',\n",
       " '{http://hl7.org/fhir}coding',\n",
       " '{http://hl7.org/fhir}system',\n",
       " '{http://hl7.org/fhir}code',\n",
       " '{http://hl7.org/fhir}multipleBirthBoolean',\n",
       " '{http://hl7.org/fhir}managingOrganization',\n",
       " '{http://hl7.org/fhir}reference',\n",
       " '{http://hl7.org/fhir}search',\n",
       " '{http://hl7.org/fhir}mode',\n",
       " '{http://hl7.org/fhir}entry',\n",
       " '{http://hl7.org/fhir}fullUrl',\n",
       " '{http://hl7.org/fhir}resource',\n",
       " '{http://hl7.org/fhir}Patient',\n",
       " '{http://hl7.org/fhir}id',\n",
       " '{http://hl7.org/fhir}meta',\n",
       " '{http://hl7.org/fhir}versionId',\n",
       " '{http://hl7.org/fhir}lastUpdated',\n",
       " '{http://hl7.org/fhir}language',\n",
       " '{http://hl7.org/fhir}text',\n",
       " '{http://hl7.org/fhir}status',\n",
       " '{http://www.w3.org/1999/xhtml}div',\n",
       " '{http://hl7.org/fhir}identifier',\n",
       " '{http://hl7.org/fhir}use',\n",
       " '{http://hl7.org/fhir}value',\n",
       " '{http://hl7.org/fhir}active',\n",
       " '{http://hl7.org/fhir}name',\n",
       " '{http://hl7.org/fhir}family',\n",
       " '{http://hl7.org/fhir}given',\n",
       " '{http://hl7.org/fhir}name',\n",
       " '{http://hl7.org/fhir}use',\n",
       " '{http://hl7.org/fhir}given',\n",
       " '{http://hl7.org/fhir}given',\n",
       " '{http://hl7.org/fhir}telecom',\n",
       " '{http://hl7.org/fhir}system',\n",
       " '{http://hl7.org/fhir}value',\n",
       " '{http://hl7.org/fhir}use',\n",
       " '{http://hl7.org/fhir}gender',\n",
       " '{http://hl7.org/fhir}birthDate',\n",
       " '{http://hl7.org/fhir}deceasedBoolean',\n",
       " '{http://hl7.org/fhir}address',\n",
       " '{http://hl7.org/fhir}extension',\n",
       " '{http://hl7.org/fhir}valueString',\n",
       " '{http://hl7.org/fhir}line',\n",
       " '{http://hl7.org/fhir}city',\n",
       " '{http://hl7.org/fhir}state',\n",
       " '{http://hl7.org/fhir}postalCode',\n",
       " '{http://hl7.org/fhir}country',\n",
       " '{http://hl7.org/fhir}maritalStatus',\n",
       " '{http://hl7.org/fhir}coding',\n",
       " '{http://hl7.org/fhir}system',\n",
       " '{http://hl7.org/fhir}code',\n",
       " '{http://hl7.org/fhir}multipleBirthInteger',\n",
       " '{http://hl7.org/fhir}communication',\n",
       " '{http://hl7.org/fhir}language',\n",
       " '{http://hl7.org/fhir}coding',\n",
       " '{http://hl7.org/fhir}system',\n",
       " '{http://hl7.org/fhir}code',\n",
       " '{http://hl7.org/fhir}display',\n",
       " '{http://hl7.org/fhir}text',\n",
       " '{http://hl7.org/fhir}managingOrganization',\n",
       " '{http://hl7.org/fhir}reference',\n",
       " '{http://hl7.org/fhir}search',\n",
       " '{http://hl7.org/fhir}mode',\n",
       " '{http://hl7.org/fhir}entry',\n",
       " '{http://hl7.org/fhir}fullUrl',\n",
       " '{http://hl7.org/fhir}resource',\n",
       " '{http://hl7.org/fhir}Patient',\n",
       " '{http://hl7.org/fhir}id',\n",
       " '{http://hl7.org/fhir}meta',\n",
       " '{http://hl7.org/fhir}versionId',\n",
       " '{http://hl7.org/fhir}lastUpdated',\n",
       " '{http://hl7.org/fhir}language',\n",
       " '{http://hl7.org/fhir}text',\n",
       " '{http://hl7.org/fhir}status',\n",
       " '{http://www.w3.org/1999/xhtml}div',\n",
       " '{http://www.w3.org/1999/xhtml}div',\n",
       " '{http://www.w3.org/1999/xhtml}b',\n",
       " '{http://www.w3.org/1999/xhtml}table',\n",
       " '{http://www.w3.org/1999/xhtml}tbody',\n",
       " '{http://www.w3.org/1999/xhtml}tr',\n",
       " '{http://www.w3.org/1999/xhtml}td',\n",
       " '{http://www.w3.org/1999/xhtml}td',\n",
       " '{http://www.w3.org/1999/xhtml}tr',\n",
       " '{http://www.w3.org/1999/xhtml}td',\n",
       " '{http://www.w3.org/1999/xhtml}td',\n",
       " '{http://www.w3.org/1999/xhtml}span',\n",
       " '{http://www.w3.org/1999/xhtml}br',\n",
       " '{http://www.w3.org/1999/xhtml}span',\n",
       " '{http://www.w3.org/1999/xhtml}span',\n",
       " '{http://www.w3.org/1999/xhtml}span',\n",
       " '{http://www.w3.org/1999/xhtml}tr',\n",
       " '{http://www.w3.org/1999/xhtml}td',\n",
       " '{http://www.w3.org/1999/xhtml}td',\n",
       " '{http://www.w3.org/1999/xhtml}span',\n",
       " '{http://hl7.org/fhir}identifier',\n",
       " '{http://hl7.org/fhir}use',\n",
       " '{http://hl7.org/fhir}value',\n",
       " '{http://hl7.org/fhir}active',\n",
       " '{http://hl7.org/fhir}name',\n",
       " '{http://hl7.org/fhir}use',\n",
       " '{http://hl7.org/fhir}family',\n",
       " '{http://hl7.org/fhir}given',\n",
       " '{http://hl7.org/fhir}telecom',\n",
       " '{http://hl7.org/fhir}value',\n",
       " '{http://hl7.org/fhir}use',\n",
       " '{http://hl7.org/fhir}gender',\n",
       " '{http://hl7.org/fhir}birthDate',\n",
       " '{http://hl7.org/fhir}deceasedBoolean',\n",
       " '{http://hl7.org/fhir}address',\n",
       " '{http://hl7.org/fhir}line',\n",
       " '{http://hl7.org/fhir}city',\n",
       " '{http://hl7.org/fhir}district',\n",
       " '{http://hl7.org/fhir}state',\n",
       " '{http://hl7.org/fhir}postalCode',\n",
       " '{http://hl7.org/fhir}country',\n",
       " '{http://hl7.org/fhir}maritalStatus',\n",
       " '{http://hl7.org/fhir}coding',\n",
       " '{http://hl7.org/fhir}system',\n",
       " '{http://hl7.org/fhir}code',\n",
       " '{http://hl7.org/fhir}multipleBirthBoolean',\n",
       " '{http://hl7.org/fhir}search',\n",
       " '{http://hl7.org/fhir}mode',\n",
       " '{http://hl7.org/fhir}entry',\n",
       " '{http://hl7.org/fhir}fullUrl',\n",
       " '{http://hl7.org/fhir}resource',\n",
       " '{http://hl7.org/fhir}Patient',\n",
       " '{http://hl7.org/fhir}id',\n",
       " '{http://hl7.org/fhir}meta',\n",
       " '{http://hl7.org/fhir}versionId',\n",
       " '{http://hl7.org/fhir}lastUpdated',\n",
       " '{http://hl7.org/fhir}language',\n",
       " '{http://hl7.org/fhir}text',\n",
       " '{http://hl7.org/fhir}status',\n",
       " '{http://www.w3.org/1999/xhtml}div',\n",
       " '{http://www.w3.org/1999/xhtml}div',\n",
       " '{http://www.w3.org/1999/xhtml}b',\n",
       " '{http://www.w3.org/1999/xhtml}table',\n",
       " '{http://www.w3.org/1999/xhtml}tbody',\n",
       " '{http://hl7.org/fhir}active',\n",
       " '{http://hl7.org/fhir}name',\n",
       " '{http://hl7.org/fhir}family',\n",
       " '{http://hl7.org/fhir}given',\n",
       " '{http://hl7.org/fhir}gender',\n",
       " '{http://hl7.org/fhir}birthDate',\n",
       " '{http://hl7.org/fhir}deceasedBoolean',\n",
       " '{http://hl7.org/fhir}maritalStatus',\n",
       " '{http://hl7.org/fhir}coding',\n",
       " '{http://hl7.org/fhir}system',\n",
       " '{http://hl7.org/fhir}code',\n",
       " '{http://hl7.org/fhir}multipleBirthBoolean',\n",
       " '{http://hl7.org/fhir}search',\n",
       " '{http://hl7.org/fhir}mode',\n",
       " '{http://hl7.org/fhir}entry',\n",
       " '{http://hl7.org/fhir}fullUrl',\n",
       " '{http://hl7.org/fhir}resource',\n",
       " '{http://hl7.org/fhir}Patient',\n",
       " '{http://hl7.org/fhir}id',\n",
       " '{http://hl7.org/fhir}meta',\n",
       " '{http://hl7.org/fhir}versionId',\n",
       " '{http://hl7.org/fhir}lastUpdated',\n",
       " '{http://hl7.org/fhir}language',\n",
       " '{http://hl7.org/fhir}text',\n",
       " '{http://hl7.org/fhir}status',\n",
       " '{http://www.w3.org/1999/xhtml}div',\n",
       " '{http://www.w3.org/1999/xhtml}p',\n",
       " '{http://hl7.org/fhir}identifier',\n",
       " '{http://hl7.org/fhir}use',\n",
       " '{http://hl7.org/fhir}value',\n",
       " '{http://hl7.org/fhir}active',\n",
       " '{http://hl7.org/fhir}name',\n",
       " '{http://hl7.org/fhir}family',\n",
       " '{http://hl7.org/fhir}given',\n",
       " '{http://hl7.org/fhir}telecom',\n",
       " '{http://hl7.org/fhir}system',\n",
       " '{http://hl7.org/fhir}value',\n",
       " '{http://hl7.org/fhir}use',\n",
       " '{http://hl7.org/fhir}telecom',\n",
       " '{http://hl7.org/fhir}value',\n",
       " '{http://hl7.org/fhir}gender',\n",
       " '{http://hl7.org/fhir}birthDate',\n",
       " '{http://hl7.org/fhir}deceasedBoolean',\n",
       " '{http://hl7.org/fhir}address',\n",
       " '{http://hl7.org/fhir}use',\n",
       " '{http://hl7.org/fhir}type',\n",
       " '{http://hl7.org/fhir}line',\n",
       " '{http://hl7.org/fhir}city',\n",
       " '{http://hl7.org/fhir}district',\n",
       " '{http://hl7.org/fhir}state',\n",
       " '{http://hl7.org/fhir}postalCode',\n",
       " '{http://hl7.org/fhir}country',\n",
       " '{http://hl7.org/fhir}maritalStatus',\n",
       " '{http://hl7.org/fhir}coding',\n",
       " '{http://hl7.org/fhir}system',\n",
       " '{http://hl7.org/fhir}code',\n",
       " '{http://hl7.org/fhir}multipleBirthInteger',\n",
       " '{http://hl7.org/fhir}search',\n",
       " '{http://hl7.org/fhir}mode',\n",
       " '{http://hl7.org/fhir}entry',\n",
       " '{http://hl7.org/fhir}fullUrl',\n",
       " '{http://hl7.org/fhir}resource',\n",
       " '{http://hl7.org/fhir}Patient',\n",
       " '{http://hl7.org/fhir}id',\n",
       " '{http://hl7.org/fhir}meta',\n",
       " '{http://hl7.org/fhir}versionId',\n",
       " '{http://hl7.org/fhir}lastUpdated',\n",
       " '{http://hl7.org/fhir}language',\n",
       " '{http://hl7.org/fhir}text',\n",
       " '{http://hl7.org/fhir}status',\n",
       " '{http://hl7.org/fhir}identifier',\n",
       " '{http://hl7.org/fhir}use',\n",
       " '{http://hl7.org/fhir}value',\n",
       " '{http://hl7.org/fhir}active',\n",
       " '{http://hl7.org/fhir}name',\n",
       " '{http://hl7.org/fhir}use',\n",
       " '{http://hl7.org/fhir}text',\n",
       " '{http://hl7.org/fhir}family',\n",
       " '{http://hl7.org/fhir}given',\n",
       " '{http://hl7.org/fhir}telecom',\n",
       " '{http://hl7.org/fhir}system',\n",
       " '{http://hl7.org/fhir}value',\n",
       " '{http://hl7.org/fhir}use',\n",
       " '{http://hl7.org/fhir}gender',\n",
       " '{http://hl7.org/fhir}birthDate',\n",
       " '{http://hl7.org/fhir}deceasedDateTime',\n",
       " '{http://hl7.org/fhir}address',\n",
       " '{http://hl7.org/fhir}use',\n",
       " '{http://hl7.org/fhir}type',\n",
       " '{http://hl7.org/fhir}text',\n",
       " '{http://hl7.org/fhir}line',\n",
       " '{http://hl7.org/fhir}city',\n",
       " '{http://hl7.org/fhir}district',\n",
       " '{http://hl7.org/fhir}state',\n",
       " '{http://hl7.org/fhir}postalCode',\n",
       " '{http://hl7.org/fhir}country',\n",
       " '{http://hl7.org/fhir}period',\n",
       " '{http://hl7.org/fhir}start',\n",
       " '{http://hl7.org/fhir}maritalStatus',\n",
       " '{http://hl7.org/fhir}coding',\n",
       " '{http://hl7.org/fhir}system',\n",
       " '{http://hl7.org/fhir}code',\n",
       " '{http://hl7.org/fhir}multipleBirthBoolean',\n",
       " '{http://hl7.org/fhir}managingOrganization',\n",
       " '{http://hl7.org/fhir}reference',\n",
       " '{http://hl7.org/fhir}search',\n",
       " '{http://hl7.org/fhir}mode',\n",
       " '{http://hl7.org/fhir}entry',\n",
       " '{http://hl7.org/fhir}fullUrl',\n",
       " '{http://hl7.org/fhir}resource',\n",
       " '{http://hl7.org/fhir}Patient',\n",
       " '{http://hl7.org/fhir}id',\n",
       " '{http://hl7.org/fhir}meta',\n",
       " '{http://hl7.org/fhir}versionId',\n",
       " '{http://hl7.org/fhir}lastUpdated',\n",
       " '{http://hl7.org/fhir}text',\n",
       " '{http://hl7.org/fhir}status',\n",
       " '{http://www.w3.org/1999/xhtml}div',\n",
       " '{http://www.w3.org/1999/xhtml}div',\n",
       " '{http://www.w3.org/1999/xhtml}b',\n",
       " '{http://www.w3.org/1999/xhtml}table',\n",
       " '{http://www.w3.org/1999/xhtml}tbody',\n",
       " '{http://www.w3.org/1999/xhtml}tr',\n",
       " '{http://www.w3.org/1999/xhtml}td',\n",
       " '{http://www.w3.org/1999/xhtml}td',\n",
       " '{http://www.w3.org/1999/xhtml}tr',\n",
       " '{http://www.w3.org/1999/xhtml}td',\n",
       " '{http://www.w3.org/1999/xhtml}td',\n",
       " '{http://www.w3.org/1999/xhtml}span',\n",
       " '{http://www.w3.org/1999/xhtml}br',\n",
       " '{http://www.w3.org/1999/xhtml}span',\n",
       " '{http://www.w3.org/1999/xhtml}span',\n",
       " '{http://www.w3.org/1999/xhtml}span',\n",
       " '{http://www.w3.org/1999/xhtml}tr',\n",
       " '{http://www.w3.org/1999/xhtml}td',\n",
       " '{http://www.w3.org/1999/xhtml}td',\n",
       " '{http://www.w3.org/1999/xhtml}span',\n",
       " '{http://hl7.org/fhir}identifier',\n",
       " '{http://hl7.org/fhir}use',\n",
       " '{http://hl7.org/fhir}value',\n",
       " '{http://hl7.org/fhir}active',\n",
       " '{http://hl7.org/fhir}name',\n",
       " '{http://hl7.org/fhir}use',\n",
       " '{http://hl7.org/fhir}family',\n",
       " '{http://hl7.org/fhir}given',\n",
       " '{http://hl7.org/fhir}telecom',\n",
       " '{http://hl7.org/fhir}system',\n",
       " '{http://hl7.org/fhir}value',\n",
       " '{http://hl7.org/fhir}use',\n",
       " '{http://hl7.org/fhir}rank',\n",
       " '{http://hl7.org/fhir}gender',\n",
       " '{http://hl7.org/fhir}birthDate',\n",
       " '{http://hl7.org/fhir}deceasedBoolean',\n",
       " '{http://hl7.org/fhir}address',\n",
       " '{http://hl7.org/fhir}use',\n",
       " '{http://hl7.org/fhir}type',\n",
       " '{http://hl7.org/fhir}line',\n",
       " '{http://hl7.org/fhir}city',\n",
       " '{http://hl7.org/fhir}state',\n",
       " '{http://hl7.org/fhir}postalCode',\n",
       " '{http://hl7.org/fhir}country',\n",
       " '{http://hl7.org/fhir}period',\n",
       " '{http://hl7.org/fhir}start',\n",
       " '{http://hl7.org/fhir}search',\n",
       " '{http://hl7.org/fhir}mode',\n",
       " '{http://hl7.org/fhir}entry',\n",
       " '{http://hl7.org/fhir}fullUrl',\n",
       " '{http://hl7.org/fhir}resource',\n",
       " '{http://hl7.org/fhir}Patient',\n",
       " '{http://hl7.org/fhir}id',\n",
       " '{http://hl7.org/fhir}meta',\n",
       " '{http://hl7.org/fhir}versionId',\n",
       " '{http://hl7.org/fhir}lastUpdated',\n",
       " '{http://hl7.org/fhir}text',\n",
       " '{http://hl7.org/fhir}status',\n",
       " '{http://www.w3.org/1999/xhtml}div',\n",
       " '{http://www.w3.org/1999/xhtml}p',\n",
       " '{http://hl7.org/fhir}identifier',\n",
       " '{http://hl7.org/fhir}use',\n",
       " '{http://hl7.org/fhir}value',\n",
       " '{http://hl7.org/fhir}name',\n",
       " '{http://hl7.org/fhir}family',\n",
       " '{http://hl7.org/fhir}given',\n",
       " '{http://hl7.org/fhir}telecom',\n",
       " '{http://hl7.org/fhir}system',\n",
       " '{http://hl7.org/fhir}value',\n",
       " '{http://hl7.org/fhir}use',\n",
       " '{http://hl7.org/fhir}gender',\n",
       " '{http://hl7.org/fhir}birthDate',\n",
       " '{http://hl7.org/fhir}address',\n",
       " '{http://hl7.org/fhir}extension',\n",
       " '{http://hl7.org/fhir}valueString',\n",
       " '{http://hl7.org/fhir}line',\n",
       " '{http://hl7.org/fhir}city',\n",
       " '{http://hl7.org/fhir}state',\n",
       " '{http://hl7.org/fhir}postalCode',\n",
       " '{http://hl7.org/fhir}country',\n",
       " '{http://hl7.org/fhir}search',\n",
       " '{http://hl7.org/fhir}mode']"
      ]
     },
     "execution_count": 18,
     "metadata": {},
     "output_type": "execute_result"
    }
   ],
   "source": [
    "[elem.tag for elem in root.iter()]"
   ]
  },
  {
   "cell_type": "code",
   "execution_count": 20,
   "metadata": {},
   "outputs": [
    {
     "data": {
      "text/plain": [
       "['{http://hl7.org/fhir}Patient',\n",
       " '{http://hl7.org/fhir}Patient',\n",
       " '{http://hl7.org/fhir}Patient',\n",
       " '{http://hl7.org/fhir}Patient',\n",
       " '{http://hl7.org/fhir}Patient',\n",
       " '{http://hl7.org/fhir}Patient',\n",
       " '{http://hl7.org/fhir}Patient',\n",
       " '{http://hl7.org/fhir}Patient',\n",
       " '{http://hl7.org/fhir}Patient',\n",
       " '{http://hl7.org/fhir}Patient']"
      ]
     },
     "execution_count": 20,
     "metadata": {},
     "output_type": "execute_result"
    }
   ],
   "source": [
    "[elem.tag for elem in root.iter('{http://hl7.org/fhir}Patient')]"
   ]
  },
  {
   "cell_type": "code",
   "execution_count": 22,
   "metadata": {},
   "outputs": [
    {
     "name": "stdout",
     "output_type": "stream",
     "text": [
      "{http://hl7.org/fhir}Patient {}\n",
      "{http://hl7.org/fhir}Patient {}\n",
      "{http://hl7.org/fhir}Patient {}\n",
      "{http://hl7.org/fhir}Patient {}\n",
      "{http://hl7.org/fhir}Patient {}\n",
      "{http://hl7.org/fhir}Patient {}\n",
      "{http://hl7.org/fhir}Patient {}\n",
      "{http://hl7.org/fhir}Patient {}\n",
      "{http://hl7.org/fhir}Patient {}\n",
      "{http://hl7.org/fhir}Patient {}\n"
     ]
    }
   ],
   "source": [
    "for entry in root.iter('{http://hl7.org/fhir}Patient'):\n",
    "    print(entry.tag, entry.attrib)"
   ]
  },
  {
   "cell_type": "code",
   "execution_count": 25,
   "metadata": {},
   "outputs": [],
   "source": [
    "for entry in root.iter('given'):\n",
    "    print(entry.tag, entry.attrib)"
   ]
  },
  {
   "cell_type": "code",
   "execution_count": 30,
   "metadata": {},
   "outputs": [],
   "source": [
    "for entry in root.iter('{http://hl7.org/fhir}Patient/resource/name/family'):\n",
    "    print(entry.tag, entry.attrib, entry.value)"
   ]
  },
  {
   "cell_type": "code",
   "execution_count": 31,
   "metadata": {},
   "outputs": [
    {
     "name": "stdout",
     "output_type": "stream",
     "text": [
      "{http://hl7.org/fhir}family {'value': 'kiku'}\n",
      "{http://hl7.org/fhir}family {'value': 'Chambers'}\n",
      "{http://hl7.org/fhir}family {'value': 'Shuman'}\n",
      "{http://hl7.org/fhir}family {'value': 'Spillane'}\n",
      "{http://hl7.org/fhir}family {'value': 'Kirby'}\n",
      "{http://hl7.org/fhir}family {'value': 'Emerald'}\n",
      "{http://hl7.org/fhir}family {'value': 'Test'}\n",
      "{http://hl7.org/fhir}family {'value': 'Nix'}\n",
      "{http://hl7.org/fhir}family {'value': 'Eligio'}\n",
      "{http://hl7.org/fhir}family {'value': 'Giri'}\n"
     ]
    }
   ],
   "source": [
    "for entry in root.iter('{http://hl7.org/fhir}family'):\n",
    "    print(entry.tag, entry.attrib)"
   ]
  },
  {
   "cell_type": "code",
   "execution_count": 32,
   "metadata": {},
   "outputs": [
    {
     "name": "stdout",
     "output_type": "stream",
     "text": [
      "<Element '{http://hl7.org/fhir}family' at 0x10607cef8>\n",
      "<Element '{http://hl7.org/fhir}family' at 0x10607a598>\n",
      "<Element '{http://hl7.org/fhir}family' at 0x102fa2f98>\n",
      "<Element '{http://hl7.org/fhir}family' at 0x102fa6e08>\n",
      "<Element '{http://hl7.org/fhir}family' at 0x102fb3d18>\n",
      "<Element '{http://hl7.org/fhir}family' at 0x102fb6a48>\n",
      "<Element '{http://hl7.org/fhir}family' at 0x102fbc458>\n",
      "<Element '{http://hl7.org/fhir}family' at 0x102fc0318>\n",
      "<Element '{http://hl7.org/fhir}family' at 0x102fc7f98>\n",
      "<Element '{http://hl7.org/fhir}family' at 0x102fcbc78>\n"
     ]
    }
   ],
   "source": [
    "for entry in root.iter('{http://hl7.org/fhir}family'):\n",
    "    print(entry)"
   ]
  },
  {
   "cell_type": "code",
   "execution_count": 33,
   "metadata": {},
   "outputs": [
    {
     "ename": "AttributeError",
     "evalue": "'xml.etree.ElementTree.Element' object has no attribute 'child'",
     "output_type": "error",
     "traceback": [
      "\u001b[0;31m---------------------------------------------------------------------------\u001b[0m",
      "\u001b[0;31mAttributeError\u001b[0m                            Traceback (most recent call last)",
      "\u001b[0;32m<ipython-input-33-d9595a22a383>\u001b[0m in \u001b[0;36m<module>\u001b[0;34m()\u001b[0m\n\u001b[1;32m      1\u001b[0m \u001b[0;32mfor\u001b[0m \u001b[0mentry\u001b[0m \u001b[0;32min\u001b[0m \u001b[0mroot\u001b[0m\u001b[0;34m.\u001b[0m\u001b[0miter\u001b[0m\u001b[0;34m(\u001b[0m\u001b[0;34m'{http://hl7.org/fhir}family'\u001b[0m\u001b[0;34m)\u001b[0m\u001b[0;34m:\u001b[0m\u001b[0;34m\u001b[0m\u001b[0m\n\u001b[0;32m----> 2\u001b[0;31m     \u001b[0mprint\u001b[0m\u001b[0;34m(\u001b[0m\u001b[0mentry\u001b[0m\u001b[0;34m.\u001b[0m\u001b[0mchild\u001b[0m\u001b[0;34m)\u001b[0m\u001b[0;34m\u001b[0m\u001b[0m\n\u001b[0m",
      "\u001b[0;31mAttributeError\u001b[0m: 'xml.etree.ElementTree.Element' object has no attribute 'child'"
     ]
    }
   ],
   "source": [
    "for entry in root.iter('{http://hl7.org/fhir}family'):\n",
    "    print(entry.child)"
   ]
  },
  {
   "cell_type": "code",
   "execution_count": 36,
   "metadata": {},
   "outputs": [
    {
     "name": "stdout",
     "output_type": "stream",
     "text": [
      "{http://hl7.org/fhir}Patient {}\n",
      "{http://hl7.org/fhir}mode {'value': 'match'}\n",
      "{http://hl7.org/fhir}Patient {}\n",
      "{http://hl7.org/fhir}mode {'value': 'match'}\n",
      "{http://hl7.org/fhir}Patient {}\n",
      "{http://hl7.org/fhir}mode {'value': 'match'}\n",
      "{http://hl7.org/fhir}Patient {}\n",
      "{http://hl7.org/fhir}mode {'value': 'match'}\n",
      "{http://hl7.org/fhir}Patient {}\n",
      "{http://hl7.org/fhir}mode {'value': 'match'}\n",
      "{http://hl7.org/fhir}Patient {}\n",
      "{http://hl7.org/fhir}mode {'value': 'match'}\n",
      "{http://hl7.org/fhir}Patient {}\n",
      "{http://hl7.org/fhir}mode {'value': 'match'}\n",
      "{http://hl7.org/fhir}Patient {}\n",
      "{http://hl7.org/fhir}mode {'value': 'match'}\n",
      "{http://hl7.org/fhir}Patient {}\n",
      "{http://hl7.org/fhir}mode {'value': 'match'}\n",
      "{http://hl7.org/fhir}Patient {}\n",
      "{http://hl7.org/fhir}mode {'value': 'match'}\n"
     ]
    }
   ],
   "source": [
    "for elem in root:\n",
    "    for deeper in elem:\n",
    "        for subelem in deeper:\n",
    "            print(subelem.tag, subelem.attrib)"
   ]
  },
  {
   "cell_type": "markdown",
   "metadata": {},
   "source": [
    "## Trying minidom\n",
    "https://stackabuse.com/reading-and-writing-xml-files-in-python/\n",
    "\n",
    "This relies on earlier getting of 'PatientList.xml'"
   ]
  },
  {
   "cell_type": "code",
   "execution_count": 39,
   "metadata": {},
   "outputs": [
    {
     "name": "stdout",
     "output_type": "stream",
     "text": [
      "10\n"
     ]
    }
   ],
   "source": [
    "from xml.dom import minidom\n",
    "mydoc = minidom.parse('PatientList.xml')\n",
    "items = mydoc.getElementsByTagName('family')\n",
    "print(len(items))"
   ]
  },
  {
   "cell_type": "code",
   "execution_count": 40,
   "metadata": {},
   "outputs": [
    {
     "name": "stdout",
     "output_type": "stream",
     "text": [
      "[<DOM Element: family at 0x10619a638>, <DOM Element: family at 0x1061a6508>, <DOM Element: family at 0x1061b2898>, <DOM Element: family at 0x1061c2340>, <DOM Element: family at 0x1061d40e0>, <DOM Element: family at 0x1061dc930>, <DOM Element: family at 0x1061e3b90>, <DOM Element: family at 0x1061f2768>, <DOM Element: family at 0x106203048>, <DOM Element: family at 0x10620d768>]\n"
     ]
    }
   ],
   "source": [
    "print(items)"
   ]
  },
  {
   "cell_type": "code",
   "execution_count": 41,
   "metadata": {},
   "outputs": [
    {
     "ename": "KeyError",
     "evalue": "'family'",
     "output_type": "error",
     "traceback": [
      "\u001b[0;31m---------------------------------------------------------------------------\u001b[0m",
      "\u001b[0;31mKeyError\u001b[0m                                  Traceback (most recent call last)",
      "\u001b[0;32m<ipython-input-41-8af75cca256d>\u001b[0m in \u001b[0;36m<module>\u001b[0;34m()\u001b[0m\n\u001b[1;32m      1\u001b[0m \u001b[0;32mfor\u001b[0m \u001b[0melem\u001b[0m \u001b[0;32min\u001b[0m \u001b[0mitems\u001b[0m\u001b[0;34m:\u001b[0m\u001b[0;34m\u001b[0m\u001b[0m\n\u001b[0;32m----> 2\u001b[0;31m     \u001b[0mprint\u001b[0m\u001b[0;34m(\u001b[0m\u001b[0melem\u001b[0m\u001b[0;34m.\u001b[0m\u001b[0mattributes\u001b[0m\u001b[0;34m[\u001b[0m\u001b[0;34m'family'\u001b[0m\u001b[0;34m]\u001b[0m\u001b[0;34m.\u001b[0m\u001b[0mvalue\u001b[0m\u001b[0;34m)\u001b[0m\u001b[0;34m\u001b[0m\u001b[0m\n\u001b[0m",
      "\u001b[0;32m~/anaconda3/lib/python3.6/xml/dom/minidom.py\u001b[0m in \u001b[0;36m__getitem__\u001b[0;34m(self, attname_or_tuple)\u001b[0m\n\u001b[1;32m    550\u001b[0m             \u001b[0;32mreturn\u001b[0m \u001b[0mself\u001b[0m\u001b[0;34m.\u001b[0m\u001b[0m_attrsNS\u001b[0m\u001b[0;34m[\u001b[0m\u001b[0mattname_or_tuple\u001b[0m\u001b[0;34m]\u001b[0m\u001b[0;34m\u001b[0m\u001b[0m\n\u001b[1;32m    551\u001b[0m         \u001b[0;32melse\u001b[0m\u001b[0;34m:\u001b[0m\u001b[0;34m\u001b[0m\u001b[0m\n\u001b[0;32m--> 552\u001b[0;31m             \u001b[0;32mreturn\u001b[0m \u001b[0mself\u001b[0m\u001b[0;34m.\u001b[0m\u001b[0m_attrs\u001b[0m\u001b[0;34m[\u001b[0m\u001b[0mattname_or_tuple\u001b[0m\u001b[0;34m]\u001b[0m\u001b[0;34m\u001b[0m\u001b[0m\n\u001b[0m\u001b[1;32m    553\u001b[0m \u001b[0;34m\u001b[0m\u001b[0m\n\u001b[1;32m    554\u001b[0m     \u001b[0;31m# same as set\u001b[0m\u001b[0;34m\u001b[0m\u001b[0;34m\u001b[0m\u001b[0m\n",
      "\u001b[0;31mKeyError\u001b[0m: 'family'"
     ]
    }
   ],
   "source": [
    "for elem in items:\n",
    "    print(elem.attributes['family'].value)"
   ]
  },
  {
   "cell_type": "code",
   "execution_count": 47,
   "metadata": {},
   "outputs": [
    {
     "name": "stdout",
     "output_type": "stream",
     "text": [
      "10\n"
     ]
    }
   ],
   "source": [
    "from xml.dom import minidom\n",
    "mydoc = minidom.parse('PatientList.xml')\n",
    "items = mydoc.getElementsByTagName('family')\n",
    "print(len(items))"
   ]
  },
  {
   "cell_type": "code",
   "execution_count": 49,
   "metadata": {},
   "outputs": [
    {
     "name": "stdout",
     "output_type": "stream",
     "text": [
      "kiku\n",
      "Chambers\n",
      "Shuman\n",
      "Spillane\n",
      "Kirby\n",
      "Emerald\n",
      "Test\n",
      "Nix\n",
      "Eligio\n",
      "Giri\n"
     ]
    }
   ],
   "source": [
    "for elem in items:\n",
    "    print(elem.attributes['value'].value)"
   ]
  },
  {
   "cell_type": "code",
   "execution_count": 50,
   "metadata": {},
   "outputs": [
    {
     "name": "stdout",
     "output_type": "stream",
     "text": [
      "kiku\n",
      "Chambers\n",
      "Shuman\n",
      "Spillane\n",
      "Kirby\n",
      "Emerald\n",
      "Test\n",
      "Nix\n",
      "Eligio\n",
      "Giri\n",
      "Pen\n",
      "Mary\n",
      "William\n",
      "Michael\n",
      "Mike\n",
      "Joseph\n",
      "Scott\n",
      "Caro\n",
      "Jen\n",
      "Jeremy\n",
      "Eric\n",
      "Rumpa\n"
     ]
    }
   ],
   "source": [
    "families = mydoc.getElementsByTagName('family')\n",
    "givens = mydoc.getElementsByTagName('given')\n",
    "for elem in families:\n",
    "    print(elem.attributes['value'].value)\n",
    "for elem in givens:\n",
    "    print(elem.attributes['value'].value)"
   ]
  },
  {
   "cell_type": "markdown",
   "metadata": {},
   "source": [
    "## Let's Grab the Name node and try to find the sub domains"
   ]
  },
  {
   "cell_type": "code",
   "execution_count": 54,
   "metadata": {},
   "outputs": [
    {
     "name": "stdout",
     "output_type": "stream",
     "text": [
      "<DOM Element: name at 0x1061403d8>\n",
      "<DOM Element: name at 0x106170210>\n",
      "<DOM Element: name at 0x1061675a0>\n",
      "<DOM Element: name at 0x10615c0e0>\n",
      "<DOM Element: name at 0x10615c2a8>\n",
      "<DOM Element: name at 0x10614bd58>\n",
      "<DOM Element: name at 0x1060fd6d0>\n",
      "<DOM Element: name at 0x1060ef930>\n",
      "<DOM Element: name at 0x1060e83d8>\n",
      "<DOM Element: name at 0x1060d5cc0>\n",
      "<DOM Element: name at 0x1060c7508>\n"
     ]
    }
   ],
   "source": [
    "names = mydoc.getElementsByTagName('name')\n",
    "for num, elem in enumerate(names, start = 1):\n",
    "    print(elem)\n",
    "    #print(\"Patient {}: {}\".format(num, elem.childNodes[0].attributes['value'].value))"
   ]
  },
  {
   "cell_type": "code",
   "execution_count": 55,
   "metadata": {},
   "outputs": [
    {
     "name": "stdout",
     "output_type": "stream",
     "text": [
      "<DOM Text node \"'\\n         '...\">\n",
      "<DOM Text node \"'\\n         '...\">\n",
      "<DOM Text node \"'\\n         '...\">\n",
      "<DOM Text node \"'\\n         '...\">\n",
      "<DOM Text node \"'\\n         '...\">\n",
      "<DOM Text node \"'\\n         '...\">\n",
      "<DOM Text node \"'\\n         '...\">\n",
      "<DOM Text node \"'\\n         '...\">\n",
      "<DOM Text node \"'\\n         '...\">\n",
      "<DOM Text node \"'\\n         '...\">\n",
      "<DOM Text node \"'\\n         '...\">\n"
     ]
    }
   ],
   "source": [
    "names = mydoc.getElementsByTagName('name')\n",
    "for num, elem in enumerate(names, start = 1):\n",
    "    print(elem.firstChild)"
   ]
  },
  {
   "cell_type": "markdown",
   "metadata": {},
   "source": [
    "## Survey says, try it in ElementTree\n",
    "https://stackoverflow.com/questions/17390166/python-xml-minidom-get-element-by-tag-in-child-node\n",
    "\n",
    "from xml.etree import ElementTree as ET\n",
    "\n",
    "doc = ET.parse(xmlfile).getroot()\n",
    "\n",
    "for server in doc.findall('server'):\n",
    "    host = server.find('./host').text\n",
    "    print host\n",
    "    for channel in server.findall('channel'):\n",
    "        name = channel.find('name').text\n",
    "        print name"
   ]
  },
  {
   "cell_type": "code",
   "execution_count": null,
   "metadata": {},
   "outputs": [],
   "source": []
  }
 ],
 "metadata": {
  "kernelspec": {
   "display_name": "Python 3",
   "language": "python",
   "name": "python3"
  },
  "language_info": {
   "codemirror_mode": {
    "name": "ipython",
    "version": 3
   },
   "file_extension": ".py",
   "mimetype": "text/x-python",
   "name": "python",
   "nbconvert_exporter": "python",
   "pygments_lexer": "ipython3",
   "version": "3.7.3"
  }
 },
 "nbformat": 4,
 "nbformat_minor": 2
}
